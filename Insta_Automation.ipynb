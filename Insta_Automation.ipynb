{
  "nbformat": 4,
  "nbformat_minor": 0,
  "metadata": {
    "colab": {
      "provenance": [],
      "authorship_tag": "ABX9TyOhr65BzAHcsRXfFZR9xkQ3",
      "include_colab_link": true
    },
    "kernelspec": {
      "name": "python3",
      "display_name": "Python 3"
    },
    "language_info": {
      "name": "python"
    }
  },
  "cells": [
    {
      "cell_type": "markdown",
      "metadata": {
        "id": "view-in-github",
        "colab_type": "text"
      },
      "source": [
        "<a href=\"https://colab.research.google.com/github/sakshissg/Instagram-Automation-Tool/blob/main/Insta_Automation.ipynb\" target=\"_parent\"><img src=\"https://colab.research.google.com/assets/colab-badge.svg\" alt=\"Open In Colab\"/></a>"
      ]
    },
    {
      "cell_type": "code",
      "execution_count": null,
      "metadata": {
        "id": "MuuLZntlhaSJ"
      },
      "outputs": [],
      "source": [
        "pip install instabot"
      ]
    },
    {
      "cell_type": "code",
      "source": [
        "from instabot import Bot  # class\n",
        "my_bot = Bot() # object of class"
      ],
      "metadata": {
        "id": "avGHvPKVh4Il"
      },
      "execution_count": null,
      "outputs": []
    },
    {
      "cell_type": "code",
      "source": [
        "# login\n",
        "my_bot.login(username=\"write_your_username\", password=\"password\")"
      ],
      "metadata": {
        "id": "DIPzx30iiO7_"
      },
      "execution_count": 3,
      "outputs": []
    },
    {
      "cell_type": "code",
      "source": [
        "# follow\n",
        "my_bot.follow(\"username\")  # single account\n",
        "my_bot.follow_users([\"user1\",\"user2\",\"user3\"])"
      ],
      "metadata": {
        "id": "Pbu3lOwbiQLP"
      },
      "execution_count": null,
      "outputs": []
    },
    {
      "cell_type": "code",
      "source": [
        "# unfollow your non followers\n",
        "my_bot.unfollow_non_followers()"
      ],
      "metadata": {
        "id": "_p4oTTo7i6qY"
      },
      "execution_count": null,
      "outputs": []
    },
    {
      "cell_type": "code",
      "source": [
        "# uploading\n",
        "my_bot.upload_photo(\"path.jpg\", caption=\"my first post\")\n",
        "my_bot.upload_story_photo(\"path.jpg\")\n",
        "my_bot.upload_video(\"path.mp4\", caption=\"video uploaded\")"
      ],
      "metadata": {
        "id": "jAiEx_Hqko-8"
      },
      "execution_count": null,
      "outputs": []
    },
    {
      "cell_type": "code",
      "source": [
        "# sending message\n",
        "my_bot.send_message(\"text message\", \"userid\")"
      ],
      "metadata": {
        "id": "ivoOMNfelUYS"
      },
      "execution_count": null,
      "outputs": []
    },
    {
      "cell_type": "code",
      "source": [
        "# like 2 recent posts\n",
        "my_bot.like_user(\"userid\", amount=2, filtration=False)"
      ],
      "metadata": {
        "id": "McuvkMtDlt2S"
      },
      "execution_count": null,
      "outputs": []
    },
    {
      "cell_type": "code",
      "source": [
        "# commenting on a post\n",
        "user_id = my_bot.get_user_id_from_username(\"username\")\n",
        "media_id = my_bot.get_last_user_medias(user_id, count=1) # list of medias\n",
        "my_bot.comment(media_id[0], \"beautiful post\")"
      ],
      "metadata": {
        "id": "OtK5dG4JmCE_"
      },
      "execution_count": null,
      "outputs": []
    },
    {
      "cell_type": "code",
      "source": [
        "# get list of followers and followings of an account\n",
        "follower_list = my_bot.get_user_followers(\"userid\")\n",
        "following_list = my_bot.get_user_following(\"userid\")\n",
        "for i in range follower_list:\n",
        "  print(i, my_bot.get_username_from_user_id(i))\n",
        "for j in range following_list:\n",
        "  print(j, my_bot.get_username_from_user_id(j))"
      ],
      "metadata": {
        "id": "zTplF2NXnKkh"
      },
      "execution_count": 4,
      "outputs": []
    }
  ]
}